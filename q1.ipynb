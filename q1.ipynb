{
 "cells": [
  {
   "cell_type": "code",
   "execution_count": 1,
   "metadata": {},
   "outputs": [],
   "source": [
    "import pandas as pd\n",
    "import numpy as np"
   ]
  },
  {
   "cell_type": "markdown",
   "metadata": {},
   "source": [
    "Loading the data"
   ]
  },
  {
   "cell_type": "code",
   "execution_count": 2,
   "metadata": {},
   "outputs": [],
   "source": [
    "f = open(\"p2p-Gnutella04.txt\", \"r\")\n",
    "text = f.read()\n",
    "text_arr = text.split(\"\\n\")\n",
    "start_entry = 5\n",
    "end_entry = -1\n",
    "a = text_arr[5]\n",
    "a.split(\"\\t\")\n",
    "\n",
    "def get_nodes(string):\n",
    "    node_arr = string.split(\"\\t\")\n",
    "    start_node = int(node_arr[0].strip())\n",
    "    end_node = int(node_arr[1].strip())\n",
    "    \n",
    "    return [start_node, end_node]\n",
    "\n",
    "\n",
    "node_arr = []\n",
    "for string in text_arr[start_entry:end_entry]:\n",
    "    node_arr.append(get_nodes(string))\n",
    "    \n",
    "node_arr\n",
    "\n",
    "\n",
    "\n",
    "max_node_val = 0\n",
    "for row in node_arr:\n",
    "    max_node_val = max(max_node_val, row[0])\n",
    "    max_node_val = max(max_node_val, row[1])\n",
    "    \n",
    "max_node_val += 1"
   ]
  },
  {
   "cell_type": "markdown",
   "metadata": {},
   "source": [
    "Creating the Graph"
   ]
  },
  {
   "cell_type": "code",
   "execution_count": 87,
   "metadata": {},
   "outputs": [],
   "source": [
    "class graph:\n",
    "    def __init__(self, num_nodes):\n",
    "        \n",
    "        \n",
    "        self.adjacency_list = []\n",
    "        self.num_nodes = num_nodes\n",
    "        self.num_edges = 0\n",
    "        \n",
    "        self.matrix = []\n",
    "        for i in range(num_nodes):\n",
    "            arr = []\n",
    "            for j in range(num_nodes):\n",
    "                arr.append(0)\n",
    "            self.matrix.append(arr)\n",
    "            self.adjacency_list.append([])\n",
    "        \n",
    "    def addEdge(self, start_node, end_node):\n",
    "        if(self.matrix[start_node][end_node] != 1):\n",
    "            self.num_edges += 1\n",
    "        self.matrix[start_node][end_node] = 1\n",
    "        self.adjacency_list[start_node].append(end_node)\n",
    "        \n",
    "    \n",
    "    def getNodes(self):\n",
    "        return self.num_nodes\n",
    "    \n",
    "    def getEdges(self):\n",
    "        return self.num_edges\n",
    "    \n",
    "    def get_vertex_indegree(self, i):\n",
    "        curr_node_in_degree = 0\n",
    "        for j in range(self.num_nodes):\n",
    "            curr_node_in_degree += self.matrix[i][j]\n",
    "        return curr_node_in_degree\n",
    "    \n",
    "    def get_vertex_outdegree(self, i):\n",
    "        curr_node_out_degree = 0\n",
    "        for j in range(self.num_nodes):\n",
    "            curr_node_out_degree += self.matrix[j][i]\n",
    "        return curr_node_out_degree\n",
    "    \n",
    "    def calculate_average_indegree(self):\n",
    "        in_degree = 0\n",
    "        for i in range(self.num_nodes):\n",
    "            curr_node = i\n",
    "            curr_node_in_degree = self.get_vertex_indegree(i)            \n",
    "            in_degree += curr_node_in_degree\n",
    "        return in_degree/self.num_nodes\n",
    "    \n",
    "    def calculate_average_outdegree(self):\n",
    "        out_degree = 0\n",
    "        for i in range(self.num_nodes):\n",
    "            curr_node = i\n",
    "            curr_node_out_degree = self.get_vertex_outdegree(i)\n",
    "            out_degree += curr_node_out_degree\n",
    "        return out_degree/self.num_nodes\n",
    "\n",
    "    \n",
    "    def get_node_max_indegree(self):\n",
    "        max_in_degree = 0\n",
    "        node = 0\n",
    "        for i in range(self.num_nodes):\n",
    "            curr_node = i\n",
    "            curr_node_in_degree = self.get_vertex_indegree(i)            \n",
    "            if(curr_node_in_degree > max_in_degree):\n",
    "                max_in_degree = curr_node_in_degree\n",
    "                node = i\n",
    "        return node\n",
    "    \n",
    "    def get_node_max_outdegree(self):\n",
    "        max_out_degree = 0\n",
    "        node = 0\n",
    "        for i in range(self.num_nodes):\n",
    "            curr_node = i\n",
    "            curr_node_out_degree = self.get_vertex_outdegree(i)            \n",
    "            if(curr_node_out_degree > max_out_degree):\n",
    "                max_out_degree = curr_node_out_degree\n",
    "                node = i\n",
    "        return node\n",
    "    \n",
    "    def get_density(self):\n",
    "        return self.num_edges/(self.num_nodes*(self.num_nodes-1))\n",
    "    \n",
    "    \n",
    "    def get_indegrees(self):\n",
    "        in_degree_arr = []\n",
    "        for i in range(self.num_nodes):\n",
    "            in_degree_arr.append(self.get_vertex_indegree(i))\n",
    "        return in_degree_arr\n",
    "    \n",
    "    def get_outdegrees(self):\n",
    "        out_degree_arr = []\n",
    "        for i in range(self.num_nodes):\n",
    "            out_degree_arr.append(self.get_vertex_outdegree(i))\n",
    "        return out_degree_arr\n",
    "    \n",
    "    \n",
    "    \n",
    "    def get_cluster_coeff_node(self, node):\n",
    "        neighbors = self.adjacency_list[node]\n",
    "        if len(neighbors) < 2:\n",
    "            return 0\n",
    "        count = 0\n",
    "        for neighbor_node in neighbors:\n",
    "            neighbor_node_list = self.adjacency_list[neighbor_node]\n",
    "            for neighbor_node_2 in neighbors:\n",
    "                if neighbor_node_2 in neighbor_node_list:\n",
    "                    count += 1\n",
    "        n = len(neighbors)\n",
    "        return count/(n*(n-1))\n",
    "    \n",
    "    def get_cluster_coeffs(self):\n",
    "        clust_coeff_arr = []\n",
    "        for i in range(self.num_nodes):\n",
    "            clust_coeff_arr.append(self.get_cluster_coeff_node(i))\n",
    "            \n",
    "        return clust_coeff_arr\n",
    "    \n",
    "    \n",
    "    def getDensity(self):\n",
    "        n = self.num_nodes\n",
    "        return self.num_edges/(n*(n-1))\n",
    "    \n",
    "    \n",
    "\n",
    "Graph = graph(max_node_val)\n",
    "\n",
    "    \n",
    "for row in node_arr:\n",
    "    try:\n",
    "        Graph.addEdge(row[0], row[1])\n",
    "    except:\n",
    "        print(row)\n",
    "        \n",
    "    \n",
    "\n",
    "        \n",
    "        \n",
    "    "
   ]
  },
  {
   "cell_type": "markdown",
   "metadata": {},
   "source": [
    "1. Number of Nodes"
   ]
  },
  {
   "cell_type": "code",
   "execution_count": 19,
   "metadata": {},
   "outputs": [
    {
     "data": {
      "text/plain": [
       "10878"
      ]
     },
     "execution_count": 19,
     "metadata": {},
     "output_type": "execute_result"
    }
   ],
   "source": [
    "graph.getNodes(Graph)"
   ]
  },
  {
   "cell_type": "markdown",
   "metadata": {},
   "source": [
    "2. Number of Edges"
   ]
  },
  {
   "cell_type": "code",
   "execution_count": 85,
   "metadata": {},
   "outputs": [
    {
     "data": {
      "text/plain": [
       "39993"
      ]
     },
     "execution_count": 85,
     "metadata": {},
     "output_type": "execute_result"
    }
   ],
   "source": [
    "graph.getEdges(Graph)"
   ]
  },
  {
   "cell_type": "markdown",
   "metadata": {},
   "source": [
    "3. Average  In-degree"
   ]
  },
  {
   "cell_type": "code",
   "execution_count": 86,
   "metadata": {},
   "outputs": [
    {
     "data": {
      "text/plain": [
       "3.676165088703006"
      ]
     },
     "execution_count": 86,
     "metadata": {},
     "output_type": "execute_result"
    }
   ],
   "source": [
    "graph.calculate_average_indegree(Graph)"
   ]
  },
  {
   "cell_type": "markdown",
   "metadata": {},
   "source": [
    "4. Average Out-degree"
   ]
  },
  {
   "cell_type": "code",
   "execution_count": null,
   "metadata": {},
   "outputs": [],
   "source": [
    "graph.calculate_average_outdegree(Graph)"
   ]
  },
  {
   "cell_type": "markdown",
   "metadata": {},
   "source": [
    "5. Node with Max In-degree"
   ]
  },
  {
   "cell_type": "code",
   "execution_count": 31,
   "metadata": {},
   "outputs": [
    {
     "data": {
      "text/plain": [
       "(3109, 1054)"
      ]
     },
     "execution_count": 31,
     "metadata": {},
     "output_type": "execute_result"
    }
   ],
   "source": [
    "graph.get_node_max_indegree(Graph)"
   ]
  },
  {
   "cell_type": "markdown",
   "metadata": {},
   "source": [
    "6. Node with Max Out-degree"
   ]
  },
  {
   "cell_type": "code",
   "execution_count": 33,
   "metadata": {},
   "outputs": [
    {
     "data": {
      "text/plain": [
       "3.676165088703006"
      ]
     },
     "execution_count": 33,
     "metadata": {},
     "output_type": "execute_result"
    }
   ],
   "source": [
    "graph.get_node_max_outdegree(Graph)"
   ]
  },
  {
   "cell_type": "markdown",
   "metadata": {},
   "source": [
    "7. The density of Network"
   ]
  },
  {
   "cell_type": "code",
   "execution_count": 88,
   "metadata": {},
   "outputs": [
    {
     "data": {
      "text/plain": [
       "0.0003379449428849978"
      ]
     },
     "execution_count": 88,
     "metadata": {},
     "output_type": "execute_result"
    }
   ],
   "source": [
    "graph.getDensity(Graph)"
   ]
  },
  {
   "cell_type": "markdown",
   "metadata": {},
   "source": [
    "\n"
   ]
  },
  {
   "cell_type": "code",
   "execution_count": 76,
   "metadata": {},
   "outputs": [],
   "source": [
    "import matplotlib.pyplot as plt\n",
    "in_degrees = graph.get_indegrees(Graph)\n",
    "out_degrees = graph.get_outdegrees(Graph)\n",
    "cluster_coeff_arr = graph.get_cluster_coeffs(Graph)"
   ]
  },
  {
   "cell_type": "code",
   "execution_count": 49,
   "metadata": {},
   "outputs": [],
   "source": []
  },
  {
   "cell_type": "markdown",
   "metadata": {},
   "source": [
    "# In-Degree distribution of the network "
   ]
  },
  {
   "cell_type": "code",
   "execution_count": 69,
   "metadata": {
    "scrolled": true
   },
   "outputs": [
    {
     "data": {
      "image/png": "[encoded data removed]",
      "text/plain": [
       "<Figure size 432x288 with 1 Axes>"
      ]
     },
     "metadata": {
      "needs_background": "light"
     },
     "output_type": "display_data"
    },
    {
     "data": {
      "image/png": "[encoded data removed]",
      "text/plain": [
       "<Figure size 432x288 with 1 Axes>"
      ]
     },
     "metadata": {
      "needs_background": "light"
     },
     "output_type": "display_data"
    },
    {
     "data": {
      "image/png": "[encoded data removed]",
      "text/plain": [
       "<Figure size 432x288 with 1 Axes>"
      ]
     },
     "metadata": {
      "needs_background": "light"
     },
     "output_type": "display_data"
    }
   ],
   "source": [
    "unique_degrees = [i for i in set(in_degrees)]\n",
    "unique_degrees\n",
    "frequency_count = []\n",
    "total_count = 0\n",
    "for degree in unique_degrees:\n",
    "    count = 0\n",
    "    for i in in_degrees:\n",
    "        if i == degree:\n",
    "            count += 1\n",
    "    total_count += count \n",
    "    frequency_count.append(count)\n",
    "\n",
    "\n",
    "frequency_count\n",
    "fractional_frequency_count = []\n",
    "for count in frequency_count:\n",
    "#     fractional_frequency_count.append(count/graph.getNodes(Graph))\n",
    "    fractional_frequency_count.append(count/total_count)\n",
    "plt.hist(in_degrees)\n",
    "plt.title(\"Frequency of node vs in-degree\")\n",
    "plt.xlabel(\"In-degree\")\n",
    "plt.ylabel(\"Frequency of the nodes\")\n",
    "plt.show()\n",
    "\n",
    "x = []\n",
    "y = []\n",
    "for i in range(len(unique_degrees)):\n",
    "    if unique_degrees[i] < 15:\n",
    "        x.append(unique_degrees[i])\n",
    "        y.append(fractional_frequency_count[i])\n",
    "\n",
    "plt.title(\"Distribution in-degree\")\n",
    "plt.xlabel(\"In-degree\")\n",
    "plt.ylabel(\"Fractional Frequency of the nodes\")\n",
    "\n",
    "plt.bar(x,y)\n",
    "plt.show()\n",
    "\n",
    "\n",
    "plt.title(\"Distribution in-degree\")\n",
    "plt.xlabel(\"In-degree\")\n",
    "plt.ylabel(\"Fractional Frequency of the nodes\")\n",
    "\n",
    "plt.plot(unique_degrees, fractional_frequency_count)\n",
    "plt.show()"
   ]
  },
  {
   "cell_type": "markdown",
   "metadata": {},
   "source": [
    "# Out-Degree distribution of the network"
   ]
  },
  {
   "cell_type": "code",
   "execution_count": 81,
   "metadata": {},
   "outputs": [
    {
     "data": {
      "image/png": "[encoded data removed]",
      "text/plain": [
       "<Figure size 432x288 with 1 Axes>"
      ]
     },
     "metadata": {
      "needs_background": "light"
     },
     "output_type": "display_data"
    },
    {
     "data": {
      "image/png": "[encoded data removed]",
      "text/plain": [
       "<Figure size 432x288 with 1 Axes>"
      ]
     },
     "metadata": {
      "needs_background": "light"
     },
     "output_type": "display_data"
    },
    {
     "data": {
      "image/png": "[encoded data removed]",
      "text/plain": [
       "<Figure size 432x288 with 1 Axes>"
      ]
     },
     "metadata": {
      "needs_background": "light"
     },
     "output_type": "display_data"
    }
   ],
   "source": [
    "unique_degrees = [i for i in set(out_degrees)]\n",
    "unique_degrees\n",
    "frequency_count = []\n",
    "total_count = 0\n",
    "for degree in unique_degrees:\n",
    "    count = 0\n",
    "    for i in out_degrees:\n",
    "        if i == degree:\n",
    "            count += 1\n",
    "    total_count += count\n",
    "    frequency_count.append(count)\n",
    "\n",
    "\n",
    "frequency_count\n",
    "fractional_frequency_count = []\n",
    "for count in frequency_count:\n",
    "#     fractional_frequency_count.append(count/graph.getNodes(Graph))\n",
    "    fractional_frequency_count.append(count/total_count)\n",
    "plt.hist(out_degrees)\n",
    "plt.title(\"Frequency of node vs out-degree\")\n",
    "plt.xlabel(\"Out-degree\")\n",
    "plt.ylabel(\"Frequency of the nodes\")\n",
    "plt.show()\n",
    "\n",
    "x = []\n",
    "y = []\n",
    "for i in range(len(unique_degrees)):\n",
    "    if unique_degrees[i] < 15:\n",
    "        x.append(unique_degrees[i])\n",
    "        y.append(fractional_frequency_count[i])\n",
    "\n",
    "plt.title(\"Distribution out-degree\")\n",
    "plt.xlabel(\"Out-degree\")\n",
    "plt.ylabel(\"Fractional Frequency of the nodes\")\n",
    "\n",
    "plt.bar(x,y)\n",
    "plt.show()\n",
    "\n",
    "\n",
    "plt.title(\"Distribution out-degree\")\n",
    "plt.xlabel(\"Out-degree\")\n",
    "plt.ylabel(\"Fractional Frequency of the nodes\")\n",
    "\n",
    "plt.plot(unique_degrees, fractional_frequency_count)\n",
    "plt.show()"
   ]
  },
  {
   "cell_type": "markdown",
   "metadata": {},
   "source": [
    "# Local Clustering Coefficient Distribution"
   ]
  },
  {
   "cell_type": "code",
   "execution_count": 89,
   "metadata": {},
   "outputs": [
    {
     "data": {
      "image/png": "[encoded data removed]",
      "text/plain": [
       "<Figure size 432x288 with 1 Axes>"
      ]
     },
     "metadata": {
      "needs_background": "light"
     },
     "output_type": "display_data"
    },
    {
     "data": {
      "image/png": "[encoded data removed]",
      "text/plain": [
       "<Figure size 432x288 with 1 Axes>"
      ]
     },
     "metadata": {
      "needs_background": "light"
     },
     "output_type": "display_data"
    }
   ],
   "source": [
    "\n",
    "unique_degrees = [i for i in set(cluster_coeff_arr)]\n",
    "unique_degrees.sort()\n",
    "frequency_count = []\n",
    "total_count = 0\n",
    "for degree in unique_degrees:\n",
    "    count = 0\n",
    "    for i in cluster_coeff_arr:\n",
    "        if i == degree:\n",
    "            count += 1\n",
    "    total_count += count\n",
    "    frequency_count.append(count)\n",
    "\n",
    "frequency_count\n",
    "fractional_frequency_count = []\n",
    "for count in frequency_count:\n",
    "#     fractional_frequency_count.append(count/graph.getNodes(Graph))\n",
    "    fractional_frequency_count.append(count/total_count)\n",
    "plt.hist(cluster_coeff_arr)\n",
    "plt.title(\"LCC distribution\")\n",
    "plt.xlabel(\"LCC value\")\n",
    "plt.ylabel(\"Frequency of the nodes\")\n",
    "plt.show()\n",
    "\n",
    "plt.title(\"LCC distribution\")\n",
    "plt.xlabel(\"LCC value\")\n",
    "plt.ylabel(\"Fractional Frequency of the nodes\")\n",
    "\n",
    "plt.plot(unique_degrees, fractional_frequency_count)\n",
    "plt.show()"
   ]
  }
 ],
 "metadata": {
  "kernelspec": {
   "display_name": "Python 3",
   "language": "python",
   "name": "python3"
  },
  "language_info": {
   "codemirror_mode": {
    "name": "ipython",
    "version": 3
   },
   "file_extension": ".py",
   "mimetype": "text/x-python",
   "name": "python",
   "nbconvert_exporter": "python",
   "pygments_lexer": "ipython3",
   "version": "3.8.3"
  }
 },
 "nbformat": 4,
 "nbformat_minor": 4
}
