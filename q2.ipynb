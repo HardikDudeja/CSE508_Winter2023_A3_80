{
 "cells": [
  {
   "cell_type": "code",
   "execution_count": null,
   "metadata": {},
   "outputs": [],
   "source": [
    "import numpy as np\n",
    "import pandas as pd\n",
    "import networkx as nx"
   ]
  },
  {
   "cell_type": "code",
   "execution_count": null,
   "metadata": {},
   "outputs": [],
   "source": [
    "edges = []\n",
    "with open('/Users/hardikdudeja/Documents/IR/Assignment_3/p2p-Gnutella04.txt') as f:\n",
    "    lines = f.readlines()\n",
    "    count = 0\n",
    "    for line in lines:\n",
    "        if count >= 4:  \n",
    "            line = line.split('\\t')\n",
    "            # print(line)\n",
    "            line[-1] = line[-1].strip()\n",
    "            # print(line)\n",
    "            edges.append((int(line[0]), int(line[1])))\n",
    "            # break\n",
    "        count += 1\n",
    "\n",
    "print(edges)"
   ]
  },
  {
   "cell_type": "code",
   "execution_count": null,
   "metadata": {},
   "outputs": [],
   "source": [
    "graph = nx.DiGraph()\n",
    "graph.add_edges_from(edges)\n",
    "page_rank = nx.pagerank(graph)\n",
    "for node, score in page_rank.items():\n",
    "    print(\"Node:\", node, \"PageRank:\", score)\n"
   ]
  },
  {
   "cell_type": "code",
   "execution_count": null,
   "metadata": {},
   "outputs": [],
   "source": [
    "hubs, authorities = nx.hits(graph)\n",
    "for node in graph.nodes():\n",
    "    print(\"Node:\", node, \"Authority:\", authorities[node], \"Hub:\", hubs[node])\n"
   ]
  },
  {
   "cell_type": "code",
   "execution_count": null,
   "metadata": {},
   "outputs": [],
   "source": []
  }
 ],
 "metadata": {
  "kernelspec": {
   "display_name": "base",
   "language": "python",
   "name": "python3"
  },
  "language_info": {
   "codemirror_mode": {
    "name": "ipython",
    "version": 3
   },
   "file_extension": ".py",
   "mimetype": "text/x-python",
   "name": "python",
   "nbconvert_exporter": "python",
   "pygments_lexer": "ipython3",
   "version": "3.9.12"
  },
  "orig_nbformat": 4
 },
 "nbformat": 4,
 "nbformat_minor": 2
}
